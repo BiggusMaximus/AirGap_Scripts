{
 "cells": [
  {
   "cell_type": "markdown",
   "metadata": {},
   "source": []
  },
  {
   "cell_type": "code",
   "execution_count": 7,
   "metadata": {},
   "outputs": [],
   "source": [
    "import pandas as pd\n",
    "import matplotlib.pyplot as plt\n",
    "import numpy as np\n",
    "import os\n",
    "%matplotlib inline"
   ]
  },
  {
   "cell_type": "code",
   "execution_count": 17,
   "metadata": {},
   "outputs": [],
   "source": [
    "path = r'G:\\Jurnal\\Paper Air Gap\\Bahan Paper A1-A10\\18.2 Analysis'.replace(\"\\\\\",\"/\")\n",
    "PATH_CSV = {}\n",
    "for pole in os.listdir(path):\n",
    "    for magnet in os.listdir(os.path.join(path, pole)):\n",
    "        if magnet == \"Magnet 14\":\n",
    "            for coil in os.listdir(os.path.join(os.path.join(path, pole), magnet)): \n",
    "                for file in os.listdir(\n",
    "                    os.path.join(os.path.join(os.path.join(path, pole), magnet), coil)\n",
    "                ):\n",
    "                    if file.endswith(\"A7.csv\"):\n",
    "                        PATH_CSV[f\"{pole}_{coil}_{file}\"] = os.path.join(\n",
    "                            os.path.join(os.path.join(os.path.join(path, pole), magnet), coil), file\n",
    "                        ).replace(\"\\\\\",\"/\")\n",
    "                        \n",
    "                        \n",
    "                    "
   ]
  },
  {
   "cell_type": "code",
   "execution_count": 18,
   "metadata": {},
   "outputs": [
    {
     "data": {
      "text/plain": [
       "{'Pole 1_Coil 1_A7.csv': 'G:/Jurnal/Paper Air Gap/Bahan Paper A1-A10/18.2 Analysis/Pole 1/Magnet 14/Coil 1/A7.csv',\n",
       " 'Pole 1_Coil 2_A7.csv': 'G:/Jurnal/Paper Air Gap/Bahan Paper A1-A10/18.2 Analysis/Pole 1/Magnet 14/Coil 2/A7.csv',\n",
       " 'Pole 1_Coil 3_A7.csv': 'G:/Jurnal/Paper Air Gap/Bahan Paper A1-A10/18.2 Analysis/Pole 1/Magnet 14/Coil 3/A7.csv',\n",
       " 'Pole 1_Coil 4_A7.csv': 'G:/Jurnal/Paper Air Gap/Bahan Paper A1-A10/18.2 Analysis/Pole 1/Magnet 14/Coil 4/A7.csv',\n",
       " 'Pole 2_Coil 1_A7.csv': 'G:/Jurnal/Paper Air Gap/Bahan Paper A1-A10/18.2 Analysis/Pole 2/Magnet 14/Coil 1/A7.csv',\n",
       " 'Pole 2_Coil 2_A7.csv': 'G:/Jurnal/Paper Air Gap/Bahan Paper A1-A10/18.2 Analysis/Pole 2/Magnet 14/Coil 2/A7.csv',\n",
       " 'Pole 2_Coil 3_A7.csv': 'G:/Jurnal/Paper Air Gap/Bahan Paper A1-A10/18.2 Analysis/Pole 2/Magnet 14/Coil 3/A7.csv',\n",
       " 'Pole 2_Coil 4_A7.csv': 'G:/Jurnal/Paper Air Gap/Bahan Paper A1-A10/18.2 Analysis/Pole 2/Magnet 14/Coil 4/A7.csv',\n",
       " 'Pole 3_Coil 1_A7.csv': 'G:/Jurnal/Paper Air Gap/Bahan Paper A1-A10/18.2 Analysis/Pole 3/Magnet 14/Coil 1/A7.csv',\n",
       " 'Pole 3_Coil 2_A7.csv': 'G:/Jurnal/Paper Air Gap/Bahan Paper A1-A10/18.2 Analysis/Pole 3/Magnet 14/Coil 2/A7.csv',\n",
       " 'Pole 3_Coil 3_A7.csv': 'G:/Jurnal/Paper Air Gap/Bahan Paper A1-A10/18.2 Analysis/Pole 3/Magnet 14/Coil 3/A7.csv',\n",
       " 'Pole 3_Coil 4_A7.csv': 'G:/Jurnal/Paper Air Gap/Bahan Paper A1-A10/18.2 Analysis/Pole 3/Magnet 14/Coil 4/A7.csv',\n",
       " 'Pole 5_Coil 1_A7.csv': 'G:/Jurnal/Paper Air Gap/Bahan Paper A1-A10/18.2 Analysis/Pole 5/Magnet 14/Coil 1/A7.csv',\n",
       " 'Pole 5_Coil 2_A7.csv': 'G:/Jurnal/Paper Air Gap/Bahan Paper A1-A10/18.2 Analysis/Pole 5/Magnet 14/Coil 2/A7.csv',\n",
       " 'Pole 5_Coil 3_A7.csv': 'G:/Jurnal/Paper Air Gap/Bahan Paper A1-A10/18.2 Analysis/Pole 5/Magnet 14/Coil 3/A7.csv',\n",
       " 'Pole 5_Coil 4_A7.csv': 'G:/Jurnal/Paper Air Gap/Bahan Paper A1-A10/18.2 Analysis/Pole 5/Magnet 14/Coil 4/A7.csv'}"
      ]
     },
     "execution_count": 18,
     "metadata": {},
     "output_type": "execute_result"
    }
   ],
   "source": [
    "PATH_CSV"
   ]
  },
  {
   "cell_type": "code",
   "execution_count": 19,
   "metadata": {},
   "outputs": [
    {
     "data": {
      "text/html": [
       "<div>\n",
       "<style scoped>\n",
       "    .dataframe tbody tr th:only-of-type {\n",
       "        vertical-align: middle;\n",
       "    }\n",
       "\n",
       "    .dataframe tbody tr th {\n",
       "        vertical-align: top;\n",
       "    }\n",
       "\n",
       "    .dataframe thead th {\n",
       "        text-align: right;\n",
       "    }\n",
       "</style>\n",
       "<table border=\"1\" class=\"dataframe\">\n",
       "  <thead>\n",
       "    <tr style=\"text-align: right;\">\n",
       "      <th></th>\n",
       "      <th>ElectricalDegree [deg]</th>\n",
       "      <th>C1</th>\n",
       "    </tr>\n",
       "  </thead>\n",
       "  <tbody>\n",
       "    <tr>\n",
       "      <th>0</th>\n",
       "      <td>0</td>\n",
       "      <td>-0.000</td>\n",
       "    </tr>\n",
       "    <tr>\n",
       "      <th>1</th>\n",
       "      <td>1</td>\n",
       "      <td>-14.597</td>\n",
       "    </tr>\n",
       "    <tr>\n",
       "      <th>2</th>\n",
       "      <td>2</td>\n",
       "      <td>-29.329</td>\n",
       "    </tr>\n",
       "    <tr>\n",
       "      <th>3</th>\n",
       "      <td>3</td>\n",
       "      <td>-44.333</td>\n",
       "    </tr>\n",
       "    <tr>\n",
       "      <th>4</th>\n",
       "      <td>4</td>\n",
       "      <td>-59.742</td>\n",
       "    </tr>\n",
       "    <tr>\n",
       "      <th>...</th>\n",
       "      <td>...</td>\n",
       "      <td>...</td>\n",
       "    </tr>\n",
       "    <tr>\n",
       "      <th>356</th>\n",
       "      <td>356</td>\n",
       "      <td>59.742</td>\n",
       "    </tr>\n",
       "    <tr>\n",
       "      <th>357</th>\n",
       "      <td>357</td>\n",
       "      <td>44.333</td>\n",
       "    </tr>\n",
       "    <tr>\n",
       "      <th>358</th>\n",
       "      <td>358</td>\n",
       "      <td>29.329</td>\n",
       "    </tr>\n",
       "    <tr>\n",
       "      <th>359</th>\n",
       "      <td>359</td>\n",
       "      <td>14.597</td>\n",
       "    </tr>\n",
       "    <tr>\n",
       "      <th>360</th>\n",
       "      <td>360</td>\n",
       "      <td>0.000</td>\n",
       "    </tr>\n",
       "  </tbody>\n",
       "</table>\n",
       "<p>361 rows × 2 columns</p>\n",
       "</div>"
      ],
      "text/plain": [
       "     ElectricalDegree [deg]      C1\n",
       "0                         0  -0.000\n",
       "1                         1 -14.597\n",
       "2                         2 -29.329\n",
       "3                         3 -44.333\n",
       "4                         4 -59.742\n",
       "..                      ...     ...\n",
       "356                     356  59.742\n",
       "357                     357  44.333\n",
       "358                     358  29.329\n",
       "359                     359  14.597\n",
       "360                     360   0.000\n",
       "\n",
       "[361 rows x 2 columns]"
      ]
     },
     "execution_count": 19,
     "metadata": {},
     "output_type": "execute_result"
    }
   ],
   "source": [
    "pole1_coil1 = pd.read_csv('G:/Jurnal/Paper Air Gap/Bahan Paper A1-A10/18.2 Analysis/Pole 1/Magnet 14/Coil 1/A7.csv')\n",
    "pole1_coil2 = pd.read_csv('G:/Jurnal/Paper Air Gap/Bahan Paper A1-A10/18.2 Analysis/Pole 1/Magnet 14/Coil 2/A7.csv')\n",
    "pole1_coil3 = pd.read_csv('G:/Jurnal/Paper Air Gap/Bahan Paper A1-A10/18.2 Analysis/Pole 1/Magnet 14/Coil 3/A7.csv')\n",
    "pole1_coil4 = pd.read_csv('G:/Jurnal/Paper Air Gap/Bahan Paper A1-A10/18.2 Analysis/Pole 1/Magnet 14/Coil 4/A7.csv')\n",
    "\n",
    "pole1_coil1 = pole1_coil1.rename(\n",
    "    columns = {\n",
    "        'AirGapFluxDensity [mTesla]' : 'C1'\n",
    "    }\n",
    ")\n",
    "pole1_coil2 = pole1_coil2.rename(\n",
    "    columns = {\n",
    "        'AirGapFluxDensity [mTesla]' : 'C2'\n",
    "    }\n",
    ")\n",
    "pole1_coil3 = pole1_coil3.rename(\n",
    "    columns = {\n",
    "        'AirGapFluxDensity [mTesla]' : 'C3'\n",
    "    }\n",
    ")\n",
    "pole1_coil4 = pole1_coil4.rename(\n",
    "    columns = {\n",
    "        'AirGapFluxDensity [mTesla]' : 'C4'\n",
    "    }\n",
    ")\n",
    "pole1_coil1\n"
   ]
  },
  {
   "cell_type": "code",
   "execution_count": 20,
   "metadata": {},
   "outputs": [
    {
     "data": {
      "image/png": "[encoded data removed]",
      "text/plain": [
       "<Figure size 432x288 with 1 Axes>"
      ]
     },
     "metadata": {
      "needs_background": "light"
     },
     "output_type": "display_data"
    }
   ],
   "source": [
    "pole1_df = pd.concat([\n",
    "    pole1_coil1['ElectricalDegree [deg]'],\n",
    "    pole1_coil1['C1'],\n",
    "    pole1_coil2['C2'],\n",
    "    pole1_coil3['C3'],\n",
    "    pole1_coil4['C4']\n",
    "], axis=1)\n",
    "pole1_df\n",
    "\n",
    "pole1_df.plot(\n",
    "    x = 'ElectricalDegree [deg]', \n",
    "    y = ['C1', 'C2', 'C3', 'C4'], \n",
    "    kind = 'line',\n",
    "    xlabel = 'Sudut(°)',\n",
    "    ylabel = 'Flux Density (T)',)\n",
    "\n",
    "plt.savefig('G:/Jurnal/Paper Air Gap/Bahan Paper A1-A10/18.2 Analysis/poil1_graph.png')\n",
    "plt.show()\n"
   ]
  },
  {
   "cell_type": "code",
   "execution_count": 21,
   "metadata": {},
   "outputs": [
    {
     "data": {
      "text/html": [
       "<div>\n",
       "<style scoped>\n",
       "    .dataframe tbody tr th:only-of-type {\n",
       "        vertical-align: middle;\n",
       "    }\n",
       "\n",
       "    .dataframe tbody tr th {\n",
       "        vertical-align: top;\n",
       "    }\n",
       "\n",
       "    .dataframe thead th {\n",
       "        text-align: right;\n",
       "    }\n",
       "</style>\n",
       "<table border=\"1\" class=\"dataframe\">\n",
       "  <thead>\n",
       "    <tr style=\"text-align: right;\">\n",
       "      <th></th>\n",
       "      <th>ElectricalDegree [deg]</th>\n",
       "      <th>C1</th>\n",
       "    </tr>\n",
       "  </thead>\n",
       "  <tbody>\n",
       "    <tr>\n",
       "      <th>0</th>\n",
       "      <td>0</td>\n",
       "      <td>-0.000</td>\n",
       "    </tr>\n",
       "    <tr>\n",
       "      <th>1</th>\n",
       "      <td>1</td>\n",
       "      <td>-17.744</td>\n",
       "    </tr>\n",
       "    <tr>\n",
       "      <th>2</th>\n",
       "      <td>2</td>\n",
       "      <td>-35.620</td>\n",
       "    </tr>\n",
       "    <tr>\n",
       "      <th>3</th>\n",
       "      <td>3</td>\n",
       "      <td>-53.760</td>\n",
       "    </tr>\n",
       "    <tr>\n",
       "      <th>4</th>\n",
       "      <td>4</td>\n",
       "      <td>-72.292</td>\n",
       "    </tr>\n",
       "    <tr>\n",
       "      <th>...</th>\n",
       "      <td>...</td>\n",
       "      <td>...</td>\n",
       "    </tr>\n",
       "    <tr>\n",
       "      <th>356</th>\n",
       "      <td>356</td>\n",
       "      <td>72.292</td>\n",
       "    </tr>\n",
       "    <tr>\n",
       "      <th>357</th>\n",
       "      <td>357</td>\n",
       "      <td>53.760</td>\n",
       "    </tr>\n",
       "    <tr>\n",
       "      <th>358</th>\n",
       "      <td>358</td>\n",
       "      <td>35.620</td>\n",
       "    </tr>\n",
       "    <tr>\n",
       "      <th>359</th>\n",
       "      <td>359</td>\n",
       "      <td>17.744</td>\n",
       "    </tr>\n",
       "    <tr>\n",
       "      <th>360</th>\n",
       "      <td>360</td>\n",
       "      <td>0.000</td>\n",
       "    </tr>\n",
       "  </tbody>\n",
       "</table>\n",
       "<p>361 rows × 2 columns</p>\n",
       "</div>"
      ],
      "text/plain": [
       "     ElectricalDegree [deg]      C1\n",
       "0                         0  -0.000\n",
       "1                         1 -17.744\n",
       "2                         2 -35.620\n",
       "3                         3 -53.760\n",
       "4                         4 -72.292\n",
       "..                      ...     ...\n",
       "356                     356  72.292\n",
       "357                     357  53.760\n",
       "358                     358  35.620\n",
       "359                     359  17.744\n",
       "360                     360   0.000\n",
       "\n",
       "[361 rows x 2 columns]"
      ]
     },
     "execution_count": 21,
     "metadata": {},
     "output_type": "execute_result"
    }
   ],
   "source": [
    "pole2_coil1 = pd.read_csv('G:/Jurnal/Paper Air Gap/Bahan Paper A1-A10/18.2 Analysis/Pole 2/Magnet 14/Coil 1/A7.csv')\n",
    "pole2_coil2 = pd.read_csv('G:/Jurnal/Paper Air Gap/Bahan Paper A1-A10/18.2 Analysis/Pole 2/Magnet 14/Coil 2/A7.csv')\n",
    "pole2_coil3 = pd.read_csv('G:/Jurnal/Paper Air Gap/Bahan Paper A1-A10/18.2 Analysis/Pole 2/Magnet 14/Coil 3/A7.csv')\n",
    "pole2_coil4 = pd.read_csv('G:/Jurnal/Paper Air Gap/Bahan Paper A1-A10/18.2 Analysis/Pole 2/Magnet 14/Coil 4/A7.csv')\n",
    "\n",
    "\n",
    "pole2_coil1 = pole2_coil1.rename(\n",
    "    columns = {\n",
    "        'AirGapFluxDensity [mTesla]' : 'C1'\n",
    "    }\n",
    ")\n",
    "pole2_coil2 = pole2_coil2.rename(\n",
    "    columns = {\n",
    "        'AirGapFluxDensity [mTesla]' : 'C2'\n",
    "    }\n",
    ")\n",
    "pole2_coil3 = pole2_coil3.rename(\n",
    "    columns = {\n",
    "        'AirGapFluxDensity [mTesla]' : 'C3'\n",
    "    }\n",
    ")\n",
    "pole2_coil4 = pole2_coil4.rename(\n",
    "    columns = {\n",
    "        'AirGapFluxDensity [mTesla]' : 'C4'\n",
    "    }\n",
    ")\n",
    "pole2_coil1"
   ]
  },
  {
   "cell_type": "code",
   "execution_count": 22,
   "metadata": {},
   "outputs": [
    {
     "data": {
      "image/png": "[encoded data removed]",
      "text/plain": [
       "<Figure size 432x288 with 1 Axes>"
      ]
     },
     "metadata": {
      "needs_background": "light"
     },
     "output_type": "display_data"
    }
   ],
   "source": [
    "pole2_df = pd.concat([\n",
    "    pole2_coil1['ElectricalDegree [deg]'],\n",
    "    pole2_coil1['C1'],\n",
    "    pole2_coil2['C2'],\n",
    "    pole2_coil3['C3'],\n",
    "    pole2_coil4['C4']\n",
    "], axis=1)\n",
    "\n",
    "\n",
    "pole2_df.plot(\n",
    "    x = 'ElectricalDegree [deg]', \n",
    "    y = ['C1', 'C2', 'C3', 'C4'], \n",
    "    kind = 'line',\n",
    "    xlabel = 'Sudut(°)',\n",
    "    ylabel = 'Flux Density (T)')\n",
    "\n",
    "plt.savefig('G:/Jurnal/Paper Air Gap/Bahan Paper A1-A10/18.2 Analysis/poil2_graph.png')\n",
    "plt.show()\n"
   ]
  },
  {
   "cell_type": "code",
   "execution_count": 23,
   "metadata": {},
   "outputs": [],
   "source": [
    "pole3_coil1 = pd.read_csv('G:/Jurnal/Paper Air Gap/Bahan Paper A1-A10/18.2 Analysis/Pole 3/Magnet 14/Coil 1/A7.csv')\n",
    "pole3_coil2 = pd.read_csv('G:/Jurnal/Paper Air Gap/Bahan Paper A1-A10/18.2 Analysis/Pole 3/Magnet 14/Coil 2/A7.csv')\n",
    "pole3_coil3 = pd.read_csv('G:/Jurnal/Paper Air Gap/Bahan Paper A1-A10/18.2 Analysis/Pole 3/Magnet 14/Coil 3/A7.csv')\n",
    "pole3_coil4 = pd.read_csv('G:/Jurnal/Paper Air Gap/Bahan Paper A1-A10/18.2 Analysis/Pole 3/Magnet 14/Coil 4/A7.csv')\n",
    "\n",
    "pole3_coil1 = pole3_coil1.rename(\n",
    "    columns = {\n",
    "        'AirGapFluxDensity [mTesla]' : 'C1'\n",
    "    }\n",
    ")\n",
    "pole3_coil2 = pole3_coil2.rename(\n",
    "    columns = {\n",
    "        'AirGapFluxDensity [mTesla]' : 'C2'\n",
    "    }\n",
    ")\n",
    "pole3_coil3 = pole3_coil3.rename(\n",
    "    columns = {\n",
    "        'AirGapFluxDensity [mTesla]' : 'C3'\n",
    "    }\n",
    ")\n",
    "pole3_coil4 = pole3_coil4.rename(\n",
    "    columns = {\n",
    "        'AirGapFluxDensity [mTesla]' : 'C4'\n",
    "    }\n",
    ")"
   ]
  },
  {
   "cell_type": "code",
   "execution_count": 24,
   "metadata": {},
   "outputs": [
    {
     "data": {
      "image/png": "[encoded data removed]",
      "text/plain": [
       "<Figure size 432x288 with 1 Axes>"
      ]
     },
     "metadata": {
      "needs_background": "light"
     },
     "output_type": "display_data"
    }
   ],
   "source": [
    "pole3_df = pd.concat([\n",
    "    pole3_coil1['ElectricalDegree [deg]'],\n",
    "    pole3_coil1['C1'],\n",
    "    pole3_coil2['C2'],\n",
    "    pole3_coil3['C3'],\n",
    "    pole3_coil4['C4']\n",
    "], axis=1)\n",
    "\n",
    "\n",
    "pole3_df.plot(\n",
    "    x = 'ElectricalDegree [deg]', \n",
    "    y = ['C1', 'C2', 'C3', 'C4'], \n",
    "    kind = 'line',\n",
    "    xlabel = 'Sudut(°)',\n",
    "    ylabel = 'Flux Density (T)')\n",
    "\n",
    "plt.savefig('G:/Jurnal/Paper Air Gap/Bahan Paper A1-A10/18.2 Analysis/poil3_graph.png')\n",
    "plt.show()\n"
   ]
  },
  {
   "cell_type": "code",
   "execution_count": 25,
   "metadata": {},
   "outputs": [],
   "source": [
    "pole5_coil1 = pd.read_csv('G:/Jurnal/Paper Air Gap/Bahan Paper A1-A10/18.2 Analysis/Pole 5/Magnet 14/Coil 1/A7.csv')\n",
    "pole5_coil2 = pd.read_csv('G:/Jurnal/Paper Air Gap/Bahan Paper A1-A10/18.2 Analysis/Pole 5/Magnet 14/Coil 2/A7.csv')\n",
    "pole5_coil3 = pd.read_csv('G:/Jurnal/Paper Air Gap/Bahan Paper A1-A10/18.2 Analysis/Pole 5/Magnet 14/Coil 3/A7.csv')\n",
    "pole5_coil4 = pd.read_csv('G:/Jurnal/Paper Air Gap/Bahan Paper A1-A10/18.2 Analysis/Pole 5/Magnet 14/Coil 4/A7.csv')\n",
    "\n",
    "pole5_coil1 = pole5_coil1.rename(\n",
    "    columns = {\n",
    "        'AirGapFluxDensity [mTesla]' : 'C1'\n",
    "    }\n",
    ")\n",
    "pole5_coil2 = pole5_coil2.rename(\n",
    "    columns = {\n",
    "        'AirGapFluxDensity [mTesla]' : 'C2'\n",
    "    }\n",
    ")\n",
    "pole5_coil3 = pole5_coil3.rename(\n",
    "    columns = {\n",
    "        'AirGapFluxDensity [mTesla]' : 'C3'\n",
    "    }\n",
    ")\n",
    "pole5_coil4 = pole5_coil4.rename(\n",
    "    columns = {\n",
    "        'AirGapFluxDensity [mTesla]' : 'C4'\n",
    "    }\n",
    ")"
   ]
  },
  {
   "cell_type": "code",
   "execution_count": 26,
   "metadata": {},
   "outputs": [
    {
     "data": {
      "image/png": "[encoded data removed]",
      "text/plain": [
       "<Figure size 432x288 with 1 Axes>"
      ]
     },
     "metadata": {
      "needs_background": "light"
     },
     "output_type": "display_data"
    }
   ],
   "source": [
    "pole5_df = pd.concat([\n",
    "    pole5_coil1['ElectricalDegree [deg]'],\n",
    "    pole5_coil1['C1'],\n",
    "    pole5_coil2['C2'],\n",
    "    pole5_coil3['C3'],\n",
    "    pole5_coil4['C4']\n",
    "], axis=1)\n",
    "\n",
    "\n",
    "pole5_df.plot(\n",
    "    x = 'ElectricalDegree [deg]', \n",
    "    y = ['C1', 'C2', 'C3', 'C4'], \n",
    "    kind = 'line',\n",
    "    xlabel = 'Sudut(°)',\n",
    "    ylabel = 'Flux Density (T)')\n",
    "\n",
    "plt.savefig('G:/Jurnal/Paper Air Gap/Bahan Paper A1-A10/18.2 Analysis/poil5_graph.png')\n",
    "plt.show()\n"
   ]
  },
  {
   "cell_type": "code",
   "execution_count": null,
   "metadata": {},
   "outputs": [],
   "source": [
    "fig, (ax1, ax2, ax3, ax4)  = plt.subplots(4, 1, sharex='col', sharey='row')\n",
    "fig.set_size_inches(18.5, 500.5)\n",
    "\n",
    "ax1.plot(\n",
    "    pole5_coil1['ElectricalDegree [deg]'],\n",
    "    pole5_coil1['C1']\n",
    ")"
   ]
  },
  {
   "cell_type": "code",
   "execution_count": null,
   "metadata": {},
   "outputs": [],
   "source": []
  }
 ],
 "metadata": {
  "kernelspec": {
   "display_name": "Python 3.10.5 64-bit",
   "language": "python",
   "name": "python3"
  },
  "language_info": {
   "codemirror_mode": {
    "name": "ipython",
    "version": 3
   },
   "file_extension": ".py",
   "mimetype": "text/x-python",
   "name": "python",
   "nbconvert_exporter": "python",
   "pygments_lexer": "ipython3",
   "version": "3.10.5"
  },
  "orig_nbformat": 4,
  "vscode": {
   "interpreter": {
    "hash": "647bbfaf918fbed23ab8e41560e5d8ebb4d3b6fee73fe08aa0160cb7d2e62cb0"
   }
  }
 },
 "nbformat": 4,
 "nbformat_minor": 2
}
